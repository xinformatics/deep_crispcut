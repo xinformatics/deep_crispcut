{
  "nbformat": 4,
  "nbformat_minor": 0,
  "metadata": {
    "colab": {
      "name": "dsv.ipynb",
      "provenance": []
    },
    "kernelspec": {
      "name": "python3",
      "display_name": "Python 3"
    },
    "accelerator": "GPU"
  },
  "cells": [
    {
      "cell_type": "code",
      "metadata": {
        "id": "XC3lsRv0YR7E",
        "colab_type": "code",
        "colab": {}
      },
      "source": [
        "import numpy as np"
      ],
      "execution_count": 10,
      "outputs": []
    },
    {
      "cell_type": "code",
      "metadata": {
        "id": "PBUsq6h9n2bs",
        "colab_type": "code",
        "colab": {}
      },
      "source": [
        "seq1= 'GAGAAAGACC-AGCATCCATAGG'\n",
        "seq2= 'GGGAAAGACCCAGCATCCGTNGG'"
      ],
      "execution_count": null,
      "outputs": []
    },
    {
      "cell_type": "code",
      "metadata": {
        "id": "PaNGBa5rh7Ux",
        "colab_type": "code",
        "colab": {
          "base_uri": "https://localhost:8080/",
          "height": 34
        },
        "outputId": "c72bc576-0428-45cb-8866-ba7cbd3c5ca0"
      },
      "source": [
        "len(seq1)"
      ],
      "execution_count": 2,
      "outputs": [
        {
          "output_type": "execute_result",
          "data": {
            "text/plain": [
              "23"
            ]
          },
          "metadata": {
            "tags": []
          },
          "execution_count": 2
        }
      ]
    },
    {
      "cell_type": "code",
      "metadata": {
        "id": "lF2bCsAAh88V",
        "colab_type": "code",
        "colab": {}
      },
      "source": [
        "# defining a 6 character definition"
      ],
      "execution_count": 3,
      "outputs": []
    },
    {
      "cell_type": "code",
      "metadata": {
        "id": "i0qnSjXFpFxa",
        "colab_type": "code",
        "colab": {}
      },
      "source": [
        "def string_to_array(my_string):\n",
        "    my_array = np.array(list(my_string))\n",
        "    return my_array"
      ],
      "execution_count": 33,
      "outputs": []
    },
    {
      "cell_type": "code",
      "metadata": {
        "id": "5Co_QFFJpIYX",
        "colab_type": "code",
        "colab": {}
      },
      "source": [
        "arr1= string_to_array(seq1)"
      ],
      "execution_count": 34,
      "outputs": []
    },
    {
      "cell_type": "code",
      "metadata": {
        "id": "pVrJwU6ypIWB",
        "colab_type": "code",
        "colab": {}
      },
      "source": [
        "arr2= string_to_array(seq2)"
      ],
      "execution_count": 35,
      "outputs": []
    },
    {
      "cell_type": "code",
      "metadata": {
        "id": "2heraJYHpIO2",
        "colab_type": "code",
        "colab": {
          "base_uri": "https://localhost:8080/",
          "height": 51
        },
        "outputId": "e2be4f7c-2f31-408b-dd68-04af85b090b8"
      },
      "source": [
        "arr1"
      ],
      "execution_count": 36,
      "outputs": [
        {
          "output_type": "execute_result",
          "data": {
            "text/plain": [
              "array(['G', 'A', 'G', 'A', 'A', 'A', 'G', 'A', 'C', 'C', '-', 'A', 'G',\n",
              "       'C', 'A', 'T', 'C', 'C', 'A', 'T', 'A', 'G', 'G'], dtype='<U1')"
            ]
          },
          "metadata": {
            "tags": []
          },
          "execution_count": 36
        }
      ]
    },
    {
      "cell_type": "code",
      "metadata": {
        "id": "tV1eOTbMpIKj",
        "colab_type": "code",
        "colab": {
          "base_uri": "https://localhost:8080/",
          "height": 51
        },
        "outputId": "bb7a6b69-3943-4c42-8fef-d5caca78af7d"
      },
      "source": [
        "arr2"
      ],
      "execution_count": 37,
      "outputs": [
        {
          "output_type": "execute_result",
          "data": {
            "text/plain": [
              "array(['G', 'G', 'G', 'A', 'A', 'A', 'G', 'A', 'C', 'C', 'C', 'A', 'G',\n",
              "       'C', 'A', 'T', 'C', 'C', 'G', 'T', 'N', 'G', 'G'], dtype='<U1')"
            ]
          },
          "metadata": {
            "tags": []
          },
          "execution_count": 37
        }
      ]
    },
    {
      "cell_type": "code",
      "metadata": {
        "id": "GMo6fEhLizMG",
        "colab_type": "code",
        "colab": {}
      },
      "source": [
        "from sklearn.preprocessing import OneHotEncoder"
      ],
      "execution_count": 38,
      "outputs": []
    },
    {
      "cell_type": "code",
      "metadata": {
        "id": "KPYBCqRNntPT",
        "colab_type": "code",
        "colab": {
          "base_uri": "https://localhost:8080/",
          "height": 34
        },
        "outputId": "9f538a56-a88a-4578-e7c1-96dc36df3e67"
      },
      "source": [
        "from sklearn.preprocessing import LabelEncoder\n",
        "label_encoder = LabelEncoder()\n",
        "label_encoder.fit(np.array(['-','A','C','G','T','N']))"
      ],
      "execution_count": 42,
      "outputs": [
        {
          "output_type": "execute_result",
          "data": {
            "text/plain": [
              "LabelEncoder()"
            ]
          },
          "metadata": {
            "tags": []
          },
          "execution_count": 42
        }
      ]
    },
    {
      "cell_type": "code",
      "metadata": {
        "id": "8Z1yH3XInxmV",
        "colab_type": "code",
        "colab": {}
      },
      "source": [
        "integer_encoded = label_encoder.transform(arr2)"
      ],
      "execution_count": 45,
      "outputs": []
    },
    {
      "cell_type": "code",
      "metadata": {
        "id": "gqkgiDrAn1pg",
        "colab_type": "code",
        "colab": {
          "base_uri": "https://localhost:8080/",
          "height": 51
        },
        "outputId": "23eada50-6170-4deb-ffe7-928fc79f915a"
      },
      "source": [
        "integer_encoded"
      ],
      "execution_count": 46,
      "outputs": [
        {
          "output_type": "execute_result",
          "data": {
            "text/plain": [
              "array([3, 3, 3, 1, 1, 1, 3, 1, 2, 2, 2, 1, 3, 2, 1, 5, 2, 2, 3, 5, 4, 3,\n",
              "       3])"
            ]
          },
          "metadata": {
            "tags": []
          },
          "execution_count": 46
        }
      ]
    },
    {
      "cell_type": "code",
      "metadata": {
        "id": "mvPSjbD1j2i1",
        "colab_type": "code",
        "colab": {}
      },
      "source": [
        "def one_hot_encoder(my_array):\n",
        "    integer_encoded = label_encoder.transform(my_array)\n",
        "    onehot_encoder = OneHotEncoder(sparse=False, dtype=float)\n",
        "    integer_encoded = integer_encoded.reshape(len(integer_encoded), 1)\n",
        "    onehot_encoded = onehot_encoder.fit_transform(integer_encoded)\n",
        "    onehot_encoded = np.delete(onehot_encoded, -1, 1)\n",
        "    return onehot_encoded"
      ],
      "execution_count": 27,
      "outputs": []
    },
    {
      "cell_type": "code",
      "metadata": {
        "id": "27L2b9BQkF_K",
        "colab_type": "code",
        "colab": {
          "base_uri": "https://localhost:8080/",
          "height": 408
        },
        "outputId": "78ad4bc3-fba5-40f1-e1ad-080206605683"
      },
      "source": [
        "one_hot_encoder(arr1)"
      ],
      "execution_count": 28,
      "outputs": [
        {
          "output_type": "execute_result",
          "data": {
            "text/plain": [
              "array([[0., 0., 0., 1.],\n",
              "       [0., 1., 0., 0.],\n",
              "       [0., 0., 0., 1.],\n",
              "       [0., 1., 0., 0.],\n",
              "       [0., 1., 0., 0.],\n",
              "       [0., 1., 0., 0.],\n",
              "       [0., 0., 0., 1.],\n",
              "       [0., 1., 0., 0.],\n",
              "       [0., 0., 1., 0.],\n",
              "       [0., 0., 1., 0.],\n",
              "       [1., 0., 0., 0.],\n",
              "       [0., 1., 0., 0.],\n",
              "       [0., 0., 0., 1.],\n",
              "       [0., 0., 1., 0.],\n",
              "       [0., 1., 0., 0.],\n",
              "       [0., 0., 0., 0.],\n",
              "       [0., 0., 1., 0.],\n",
              "       [0., 0., 1., 0.],\n",
              "       [0., 1., 0., 0.],\n",
              "       [0., 0., 0., 0.],\n",
              "       [0., 1., 0., 0.],\n",
              "       [0., 0., 0., 1.],\n",
              "       [0., 0., 0., 1.]])"
            ]
          },
          "metadata": {
            "tags": []
          },
          "execution_count": 28
        }
      ]
    },
    {
      "cell_type": "code",
      "metadata": {
        "id": "90f4s2p3r2Hu",
        "colab_type": "code",
        "colab": {}
      },
      "source": [
        "#another idea"
      ],
      "execution_count": 47,
      "outputs": []
    },
    {
      "cell_type": "code",
      "metadata": {
        "id": "8rUao9Y4kNON",
        "colab_type": "code",
        "colab": {}
      },
      "source": [
        "seq1= 'GAGAAAGACC-AGCATCCATAGG'\n",
        "seq2= 'GGGAAAGACCCAGCATCCGTNGG'"
      ],
      "execution_count": 48,
      "outputs": []
    },
    {
      "cell_type": "code",
      "metadata": {
        "id": "VEsaoTisr_d9",
        "colab_type": "code",
        "colab": {}
      },
      "source": [
        "def custom_onehot(arr):\n",
        "  img = np.zeros((len(arr),4))\n",
        "  for index, value in enumerate(arr):\n",
        "    if value=='-':\n",
        "      pass\n",
        "    elif value=='A':\n",
        "      img[index][0] = 1\n",
        "    elif value=='C':\n",
        "      img[index][1] = 1\n",
        "    elif value=='G':\n",
        "      img[index][2] = 1\n",
        "    elif value=='T':\n",
        "      img[index][3] = 1\n",
        "    else:\n",
        "      img[index][0:4] = 0.25\n",
        "  return img.T\n",
        "  #return img"
      ],
      "execution_count": 173,
      "outputs": []
    },
    {
      "cell_type": "code",
      "metadata": {
        "id": "2DH7eS_wwH9q",
        "colab_type": "code",
        "colab": {}
      },
      "source": [
        "img1 = custom_onehot(arr1)"
      ],
      "execution_count": 174,
      "outputs": []
    },
    {
      "cell_type": "code",
      "metadata": {
        "id": "M0IH-YMY2nxA",
        "colab_type": "code",
        "colab": {
          "base_uri": "https://localhost:8080/",
          "height": 153
        },
        "outputId": "23e3c5c0-b2ad-47a7-ec1a-255334bff078"
      },
      "source": [
        "img1"
      ],
      "execution_count": 175,
      "outputs": [
        {
          "output_type": "execute_result",
          "data": {
            "text/plain": [
              "array([[0., 1., 0., 1., 1., 1., 0., 1., 0., 0., 0., 1., 0., 0., 1., 0.,\n",
              "        0., 0., 1., 0., 1., 0., 0.],\n",
              "       [0., 0., 0., 0., 0., 0., 0., 0., 1., 1., 0., 0., 0., 1., 0., 0.,\n",
              "        1., 1., 0., 0., 0., 0., 0.],\n",
              "       [1., 0., 1., 0., 0., 0., 1., 0., 0., 0., 0., 0., 1., 0., 0., 0.,\n",
              "        0., 0., 0., 0., 0., 1., 1.],\n",
              "       [0., 0., 0., 0., 0., 0., 0., 0., 0., 0., 0., 0., 0., 0., 0., 1.,\n",
              "        0., 0., 0., 1., 0., 0., 0.]])"
            ]
          },
          "metadata": {
            "tags": []
          },
          "execution_count": 175
        }
      ]
    },
    {
      "cell_type": "code",
      "metadata": {
        "id": "c7SDTBqstFOw",
        "colab_type": "code",
        "colab": {}
      },
      "source": [
        "img2 = custom_onehot(arr2)"
      ],
      "execution_count": 176,
      "outputs": []
    },
    {
      "cell_type": "code",
      "metadata": {
        "id": "ePqEMTLC2rgz",
        "colab_type": "code",
        "colab": {
          "base_uri": "https://localhost:8080/",
          "height": 221
        },
        "outputId": "1da6cea1-ee03-4120-8c49-a19ce22b20e2"
      },
      "source": [
        "img2"
      ],
      "execution_count": 178,
      "outputs": [
        {
          "output_type": "execute_result",
          "data": {
            "text/plain": [
              "array([[0.  , 0.  , 0.  , 1.  , 1.  , 1.  , 0.  , 1.  , 0.  , 0.  , 0.  ,\n",
              "        1.  , 0.  , 0.  , 1.  , 0.  , 0.  , 0.  , 0.  , 0.  , 0.25, 0.  ,\n",
              "        0.  ],\n",
              "       [0.  , 0.  , 0.  , 0.  , 0.  , 0.  , 0.  , 0.  , 1.  , 1.  , 1.  ,\n",
              "        0.  , 0.  , 1.  , 0.  , 0.  , 1.  , 1.  , 0.  , 0.  , 0.25, 0.  ,\n",
              "        0.  ],\n",
              "       [1.  , 1.  , 1.  , 0.  , 0.  , 0.  , 1.  , 0.  , 0.  , 0.  , 0.  ,\n",
              "        0.  , 1.  , 0.  , 0.  , 0.  , 0.  , 0.  , 1.  , 0.  , 0.25, 1.  ,\n",
              "        1.  ],\n",
              "       [0.  , 0.  , 0.  , 0.  , 0.  , 0.  , 0.  , 0.  , 0.  , 0.  , 0.  ,\n",
              "        0.  , 0.  , 0.  , 0.  , 1.  , 0.  , 0.  , 0.  , 1.  , 0.25, 0.  ,\n",
              "        0.  ]])"
            ]
          },
          "metadata": {
            "tags": []
          },
          "execution_count": 178
        }
      ]
    },
    {
      "cell_type": "code",
      "metadata": {
        "id": "EK2K0e7tygpG",
        "colab_type": "code",
        "colab": {
          "base_uri": "https://localhost:8080/",
          "height": 34
        },
        "outputId": "6256b16c-c6fe-4ed5-bc99-a392914bed86"
      },
      "source": [
        "img1.shape,img2.shape"
      ],
      "execution_count": 179,
      "outputs": [
        {
          "output_type": "execute_result",
          "data": {
            "text/plain": [
              "((4, 23), (4, 23))"
            ]
          },
          "metadata": {
            "tags": []
          },
          "execution_count": 179
        }
      ]
    },
    {
      "cell_type": "code",
      "metadata": {
        "id": "BCB9FyIi3Wtm",
        "colab_type": "code",
        "colab": {}
      },
      "source": [
        "%matplotlib inline"
      ],
      "execution_count": 180,
      "outputs": []
    },
    {
      "cell_type": "code",
      "metadata": {
        "id": "adQeX1gA3ZzN",
        "colab_type": "code",
        "colab": {}
      },
      "source": [
        "from matplotlib import pyplot as plt"
      ],
      "execution_count": 181,
      "outputs": []
    },
    {
      "cell_type": "code",
      "metadata": {
        "id": "H6wAWkXv3tWm",
        "colab_type": "code",
        "colab": {
          "base_uri": "https://localhost:8080/",
          "height": 124
        },
        "outputId": "2895bb83-c16f-48e7-8be5-b533d4620a04"
      },
      "source": [
        "fig, ax = plt.subplots(figsize=(5.75,1))\n",
        "ax.imshow(img1, interpolation='none', cmap='Blues', aspect='auto')\n",
        "ax.set_title(seq1, color='yellow',fontsize= 21)\n",
        "plt.show()"
      ],
      "execution_count": 194,
      "outputs": [
        {
          "output_type": "display_data",
          "data": {
            "image/png": "[encoded data removed]",
            "text/plain": [
              "<Figure size 414x72 with 1 Axes>"
            ]
          },
          "metadata": {
            "tags": [],
            "needs_background": "light"
          }
        }
      ]
    },
    {
      "cell_type": "code",
      "metadata": {
        "id": "08KCLZR75IaZ",
        "colab_type": "code",
        "colab": {
          "base_uri": "https://localhost:8080/",
          "height": 123
        },
        "outputId": "a1cfc26b-7e3c-4e43-d52c-90b1bc909d38"
      },
      "source": [
        "fig, ax = plt.subplots(figsize=(5.75,1))\n",
        "ax.imshow(img2, interpolation='none', cmap='Blues', aspect='auto')\n",
        "ax.set_title(seq2, color='yellow',fontsize= 20)\n",
        "plt.show()"
      ],
      "execution_count": 196,
      "outputs": [
        {
          "output_type": "display_data",
          "data": {
            "image/png": "[encoded data removed]",
            "text/plain": [
              "<Figure size 414x72 with 1 Axes>"
            ]
          },
          "metadata": {
            "tags": [],
            "needs_background": "light"
          }
        }
      ]
    },
    {
      "cell_type": "code",
      "metadata": {
        "id": "G-G_5HTa3AaP",
        "colab_type": "code",
        "colab": {}
      },
      "source": [
        "#look after PIL later"
      ],
      "execution_count": 158,
      "outputs": []
    },
    {
      "cell_type": "code",
      "metadata": {
        "id": "5dIXwHkoyx0Q",
        "colab_type": "code",
        "colab": {}
      },
      "source": [
        "from PIL import Image"
      ],
      "execution_count": 145,
      "outputs": []
    },
    {
      "cell_type": "code",
      "metadata": {
        "id": "L_EeyvQ-y0zR",
        "colab_type": "code",
        "colab": {}
      },
      "source": [
        "pil_img1 = Image.fromarray(img1, 'P')\n",
        "pil_img2 = Image.fromarray(img2, 'P')"
      ],
      "execution_count": 146,
      "outputs": []
    },
    {
      "cell_type": "code",
      "metadata": {
        "id": "rgtaf9_ly7yc",
        "colab_type": "code",
        "colab": {}
      },
      "source": [
        "newsize = (230, 50) \n",
        "pil_img1 = pil_img1.resize(newsize)\n",
        "pil_img2 = pil_img2.resize(newsize)"
      ],
      "execution_count": 147,
      "outputs": []
    },
    {
      "cell_type": "code",
      "metadata": {
        "id": "Qowjm50H1XiO",
        "colab_type": "code",
        "colab": {
          "base_uri": "https://localhost:8080/",
          "height": 67
        },
        "outputId": "613c9ba5-16d6-465a-b98e-a7026ebceb3c"
      },
      "source": [
        "pil_img1 "
      ],
      "execution_count": 148,
      "outputs": [
        {
          "output_type": "execute_result",
          "data": {
            "image/png": "[encoded data removed]",
            "text/plain": [
              "<PIL.Image.Image image mode=P size=230x50 at 0x7F9D9F2DA668>"
            ]
          },
          "metadata": {
            "tags": []
          },
          "execution_count": 148
        }
      ]
    },
    {
      "cell_type": "code",
      "metadata": {
        "id": "hKvIDnDZzbf3",
        "colab_type": "code",
        "colab": {
          "base_uri": "https://localhost:8080/",
          "height": 67
        },
        "outputId": "da7f3511-c5fd-4ea8-bb30-b14864568d54"
      },
      "source": [
        "pil_img2"
      ],
      "execution_count": 149,
      "outputs": [
        {
          "output_type": "execute_result",
          "data": {
            "image/png": "[encoded data removed]",
            "text/plain": [
              "<PIL.Image.Image image mode=P size=230x50 at 0x7F9D9F2DAB70>"
            ]
          },
          "metadata": {
            "tags": []
          },
          "execution_count": 149
        }
      ]
    },
    {
      "cell_type": "code",
      "metadata": {
        "id": "Bw_OhFL92QD6",
        "colab_type": "code",
        "colab": {}
      },
      "source": [
        ""
      ],
      "execution_count": null,
      "outputs": []
    }
  ]
}