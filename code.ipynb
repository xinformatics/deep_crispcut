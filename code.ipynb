{
 "cells": [
  {
   "cell_type": "code",
   "execution_count": 1,
   "metadata": {},
   "outputs": [],
   "source": [
    "from Bio import pairwise2"
   ]
  },
  {
   "cell_type": "code",
   "execution_count": 2,
   "metadata": {},
   "outputs": [],
   "source": [
    "import pandas as pd"
   ]
  },
  {
   "cell_type": "code",
   "execution_count": 5,
   "metadata": {},
   "outputs": [],
   "source": [
    "data = pd.read_csv('data.txt', sep=\" \", header=None)"
   ]
  },
  {
   "cell_type": "code",
   "execution_count": 7,
   "metadata": {},
   "outputs": [],
   "source": [
    "data.columns = ['not_reference','reference']"
   ]
  },
  {
   "cell_type": "code",
   "execution_count": 11,
   "metadata": {},
   "outputs": [],
   "source": [
    "m,_ = data.shape"
   ]
  },
  {
   "cell_type": "code",
   "execution_count": 48,
   "metadata": {},
   "outputs": [
    {
     "name": "stdout",
     "output_type": "stream",
     "text": [
      "    seq_no: 1\n",
      "off_target:  GAGAAAGACC-AGCATCCATAGG 23\n",
      "    target:  GGGAAAGACCCAGCATCCGTNGG 23\n",
      "    seq_no: 2\n",
      "off_target:  AGGAAAGACCCAGCA-CCATCGG 23\n",
      "    target:  GGGAAAGACCCAGCATCCGTNGG 23\n",
      "    seq_no: 3\n",
      "off_target:  AGCTCTGCG-CTGGAGGAGGGGG 23\n",
      "    target:  GGCACTGCGGCTGGAGGTGGNGG 23\n",
      "    seq_no: 4\n",
      "off_target:  AGGAAAGACCCAGCA-CCATCGG 23\n",
      "    target:  GGGAAAGACCCAGCATCCGTNGG 23\n",
      "    seq_no: 5\n",
      "off_target:  AAGTCAGAG-AGAAGAAGAAGAG 23\n",
      "    target:  GAGTCCGAGCAGAAGAAGAANGG 23\n",
      "    seq_no: 6\n",
      "off_target:  GAGAAAGACC-AGCATCCATAGG 23\n",
      "    target:  GGGAAAGACCCAGCATCCGTNGG 23\n",
      "    seq_no: 7\n",
      "off_target:  GTCCTCCTCCACCCACGCCTCAGG 24\n",
      "    target:  GACCCCCTCCACCC-CGCCTCNGG 24\n",
      "    seq_no: 8\n",
      "off_target:  GAGTA-GAGCAGAGGAAGAAGGG 23\n",
      "    target:  GAGTCCGAGCAGAAGAAGAANGG 23\n",
      "    seq_no: 9\n",
      "off_target:  CATCCCCTC-ACCCCGCCTTCGG 23\n",
      "    target:  GACCCCCTCCACCCCGCCTCNGG 23\n"
     ]
    }
   ],
   "source": [
    "for i in range(m):\n",
    "    str1= data.loc[i]['not_reference']\n",
    "    str2= data.loc[i]['reference'] \n",
    "    align = pairwise2.align.globalms(str1, str2,2, -1, -3, -.1)[0]\n",
    "    score = align[3]\n",
    "    off_target = align[0]\n",
    "    target = align[1]\n",
    "    #print('\\n')\n",
    "    print('    seq_no:',i+1)\n",
    "    print('off_target: ',off_target,len(off_target))\n",
    "    print('    target: ',target,len(target))\n",
    "    #print('\\n')"
   ]
  },
  {
   "cell_type": "code",
   "execution_count": 34,
   "metadata": {},
   "outputs": [
    {
     "data": {
      "text/plain": [
       "[('GAGAAAGACC-AGCATCCATAGG', 'GGGAAAGACCCAGCATCCGTNGG', 33.0, 0, 23),\n",
       " ('GAGAAAGAC-CAGCATCCATAGG', 'GGGAAAGACCCAGCATCCGTNGG', 33.0, 0, 23),\n",
       " ('GAGAAAGA-CCAGCATCCATAGG', 'GGGAAAGACCCAGCATCCGTNGG', 33.0, 0, 23)]"
      ]
     },
     "execution_count": 34,
     "metadata": {},
     "output_type": "execute_result"
    }
   ],
   "source": [
    "#pairwise2.align.globalms('GAGAAAGACCAGCATCCATAGG', 'GGGAAAGACCCAGCATCCGTNGG',2, -1, -2, -.1)"
   ]
  },
  {
   "cell_type": "code",
   "execution_count": null,
   "metadata": {},
   "outputs": [],
   "source": []
  }
 ],
 "metadata": {
  "kernelspec": {
   "display_name": "Python 3",
   "language": "python",
   "name": "python3"
  },
  "language_info": {
   "codemirror_mode": {
    "name": "ipython",
    "version": 3
   },
   "file_extension": ".py",
   "mimetype": "text/x-python",
   "name": "python",
   "nbconvert_exporter": "python",
   "pygments_lexer": "ipython3",
   "version": "3.7.4"
  }
 },
 "nbformat": 4,
 "nbformat_minor": 4
}
