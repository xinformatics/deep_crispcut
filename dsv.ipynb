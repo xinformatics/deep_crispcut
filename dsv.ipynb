{
 "cells": [
  {
   "cell_type": "code",
   "execution_count": 2,
   "metadata": {
    "colab": {},
    "colab_type": "code",
    "id": "XC3lsRv0YR7E"
   },
   "outputs": [],
   "source": [
    "import numpy as np\n",
    "from matplotlib import pyplot as plt\n",
    "import pandas as pd"
   ]
  },
  {
   "cell_type": "code",
   "execution_count": 3,
   "metadata": {},
   "outputs": [],
   "source": [
    "from tqdm import tqdm"
   ]
  },
  {
   "cell_type": "code",
   "execution_count": 4,
   "metadata": {},
   "outputs": [],
   "source": [
    "%matplotlib inline"
   ]
  },
  {
   "cell_type": "code",
   "execution_count": 10,
   "metadata": {
    "colab": {},
    "colab_type": "code",
    "id": "PBUsq6h9n2bs"
   },
   "outputs": [],
   "source": [
    "seq1= 'GAGAAAGACC-AGCATCCATAGG'\n",
    "seq2= 'GGGAAAGACCCAGCATCCGTNGG'"
   ]
  },
  {
   "cell_type": "code",
   "execution_count": 11,
   "metadata": {
    "colab": {},
    "colab_type": "code",
    "id": "i0qnSjXFpFxa"
   },
   "outputs": [],
   "source": [
    "def string_to_array(my_string):\n",
    "    my_array = np.array(list(my_string))\n",
    "    return my_array"
   ]
  },
  {
   "cell_type": "code",
   "execution_count": 12,
   "metadata": {
    "colab": {},
    "colab_type": "code",
    "id": "5Co_QFFJpIYX"
   },
   "outputs": [],
   "source": [
    "arr1= string_to_array(seq1)"
   ]
  },
  {
   "cell_type": "code",
   "execution_count": 13,
   "metadata": {
    "colab": {},
    "colab_type": "code",
    "id": "pVrJwU6ypIWB"
   },
   "outputs": [],
   "source": [
    "arr2= string_to_array(seq2)"
   ]
  },
  {
   "cell_type": "code",
   "execution_count": 14,
   "metadata": {
    "colab": {},
    "colab_type": "code",
    "id": "90f4s2p3r2Hu"
   },
   "outputs": [],
   "source": [
    "#another idea"
   ]
  },
  {
   "cell_type": "code",
   "execution_count": 5,
   "metadata": {
    "colab": {},
    "colab_type": "code",
    "id": "VEsaoTisr_d9"
   },
   "outputs": [],
   "source": [
    "def custom_onehot(arr):\n",
    "  img = np.zeros((len(arr),4))\n",
    "  for index, value in enumerate(arr):\n",
    "    if value=='-':\n",
    "      pass\n",
    "    elif value=='A':\n",
    "      img[index][0] = 1\n",
    "    elif value=='C':\n",
    "      img[index][1] = 1\n",
    "    elif value=='G':\n",
    "      img[index][2] = 1\n",
    "    elif value=='T':\n",
    "      img[index][3] = 1\n",
    "    else:\n",
    "      img[index][0:4] = 0.25\n",
    "  return img.T\n",
    "  #return img"
   ]
  },
  {
   "cell_type": "code",
   "execution_count": 16,
   "metadata": {
    "colab": {},
    "colab_type": "code",
    "id": "2DH7eS_wwH9q"
   },
   "outputs": [],
   "source": [
    "img1 = custom_onehot(arr1)"
   ]
  },
  {
   "cell_type": "code",
   "execution_count": 17,
   "metadata": {
    "colab": {
     "base_uri": "https://localhost:8080/",
     "height": 153
    },
    "colab_type": "code",
    "id": "M0IH-YMY2nxA",
    "outputId": "23e3c5c0-b2ad-47a7-ec1a-255334bff078"
   },
   "outputs": [
    {
     "data": {
      "text/plain": [
       "array([[0., 1., 0., 1., 1., 1., 0., 1., 0., 0., 0., 1., 0., 0., 1., 0.,\n",
       "        0., 0., 1., 0., 1., 0., 0.],\n",
       "       [0., 0., 0., 0., 0., 0., 0., 0., 1., 1., 0., 0., 0., 1., 0., 0.,\n",
       "        1., 1., 0., 0., 0., 0., 0.],\n",
       "       [1., 0., 1., 0., 0., 0., 1., 0., 0., 0., 0., 0., 1., 0., 0., 0.,\n",
       "        0., 0., 0., 0., 0., 1., 1.],\n",
       "       [0., 0., 0., 0., 0., 0., 0., 0., 0., 0., 0., 0., 0., 0., 0., 1.,\n",
       "        0., 0., 0., 1., 0., 0., 0.]])"
      ]
     },
     "execution_count": 17,
     "metadata": {},
     "output_type": "execute_result"
    }
   ],
   "source": [
    "img1"
   ]
  },
  {
   "cell_type": "code",
   "execution_count": 18,
   "metadata": {
    "colab": {},
    "colab_type": "code",
    "id": "c7SDTBqstFOw"
   },
   "outputs": [],
   "source": [
    "img2 = custom_onehot(arr2)"
   ]
  },
  {
   "cell_type": "code",
   "execution_count": 19,
   "metadata": {
    "colab": {
     "base_uri": "https://localhost:8080/",
     "height": 221
    },
    "colab_type": "code",
    "id": "ePqEMTLC2rgz",
    "outputId": "1da6cea1-ee03-4120-8c49-a19ce22b20e2"
   },
   "outputs": [
    {
     "data": {
      "text/plain": [
       "array([[0.  , 0.  , 0.  , 1.  , 1.  , 1.  , 0.  , 1.  , 0.  , 0.  , 0.  ,\n",
       "        1.  , 0.  , 0.  , 1.  , 0.  , 0.  , 0.  , 0.  , 0.  , 0.25, 0.  ,\n",
       "        0.  ],\n",
       "       [0.  , 0.  , 0.  , 0.  , 0.  , 0.  , 0.  , 0.  , 1.  , 1.  , 1.  ,\n",
       "        0.  , 0.  , 1.  , 0.  , 0.  , 1.  , 1.  , 0.  , 0.  , 0.25, 0.  ,\n",
       "        0.  ],\n",
       "       [1.  , 1.  , 1.  , 0.  , 0.  , 0.  , 1.  , 0.  , 0.  , 0.  , 0.  ,\n",
       "        0.  , 1.  , 0.  , 0.  , 0.  , 0.  , 0.  , 1.  , 0.  , 0.25, 1.  ,\n",
       "        1.  ],\n",
       "       [0.  , 0.  , 0.  , 0.  , 0.  , 0.  , 0.  , 0.  , 0.  , 0.  , 0.  ,\n",
       "        0.  , 0.  , 0.  , 0.  , 1.  , 0.  , 0.  , 0.  , 1.  , 0.25, 0.  ,\n",
       "        0.  ]])"
      ]
     },
     "execution_count": 19,
     "metadata": {},
     "output_type": "execute_result"
    }
   ],
   "source": [
    "img2"
   ]
  },
  {
   "cell_type": "code",
   "execution_count": 20,
   "metadata": {
    "colab": {
     "base_uri": "https://localhost:8080/",
     "height": 34
    },
    "colab_type": "code",
    "id": "EK2K0e7tygpG",
    "outputId": "6256b16c-c6fe-4ed5-bc99-a392914bed86"
   },
   "outputs": [
    {
     "data": {
      "text/plain": [
       "((4, 23), (4, 23))"
      ]
     },
     "execution_count": 20,
     "metadata": {},
     "output_type": "execute_result"
    }
   ],
   "source": [
    "img1.shape,img2.shape"
   ]
  },
  {
   "cell_type": "code",
   "execution_count": null,
   "metadata": {
    "colab": {},
    "colab_type": "code",
    "id": "BCB9FyIi3Wtm"
   },
   "outputs": [],
   "source": []
  },
  {
   "cell_type": "code",
   "execution_count": null,
   "metadata": {
    "colab": {},
    "colab_type": "code",
    "id": "adQeX1gA3ZzN"
   },
   "outputs": [],
   "source": []
  },
  {
   "cell_type": "code",
   "execution_count": 23,
   "metadata": {
    "colab": {
     "base_uri": "https://localhost:8080/",
     "height": 124
    },
    "colab_type": "code",
    "id": "H6wAWkXv3tWm",
    "outputId": "2895bb83-c16f-48e7-8be5-b533d4620a04"
   },
   "outputs": [],
   "source": [
    "fig, ax = plt.subplots(figsize=(5.75,1))\n",
    "show = ax.imshow(img1, interpolation='none', cmap='Blues', aspect='auto')\n",
    "#ax.set_title(seq1, color='yellow',fontsize= 21)\n",
    "plt.axis('off')\n",
    "fig.savefig('data/off_temp.png',bbox_inches = 'tight',pad_inches=0)\n",
    "#plt.show()\n",
    "plt.close(fig)"
   ]
  },
  {
   "cell_type": "code",
   "execution_count": 58,
   "metadata": {
    "colab": {
     "base_uri": "https://localhost:8080/",
     "height": 123
    },
    "colab_type": "code",
    "id": "08KCLZR75IaZ",
    "outputId": "a1cfc26b-7e3c-4e43-d52c-90b1bc909d38"
   },
   "outputs": [
    {
     "data": {
      "text/plain": [
       "<Figure size 432x288 with 0 Axes>"
      ]
     },
     "metadata": {},
     "output_type": "display_data"
    },
    {
     "data": {
      "image/png": "[encoded data removed]",
      "text/plain": [
       "<Figure size 414x72 with 1 Axes>"
      ]
     },
     "metadata": {
      "needs_background": "light"
     },
     "output_type": "display_data"
    }
   ],
   "source": [
    "plt.clf()\n",
    "fig, ax = plt.subplots(figsize=(5.75,1))\n",
    "ax.imshow(img2, interpolation='none', cmap='Blues', aspect='auto')\n",
    "#ax.set_title(seq2, color='yellow',fontsize= 20)\n",
    "plt.axis('off')\n",
    "plt.savefig('data/target_temp.png',bbox_inches = 'tight',pad_inches=0)\n",
    "#plt.show()"
   ]
  },
  {
   "cell_type": "code",
   "execution_count": 1,
   "metadata": {},
   "outputs": [],
   "source": [
    "def save_img(img,loc,i):\n",
    "    #plt.clf()\n",
    "    fig, ax = plt.subplots(figsize=(7,1))\n",
    "    ax.imshow(img, interpolation='none', cmap='Blues', aspect='auto')\n",
    "    plt.axis('off')\n",
    "    #plt.savefig('data/'+str(loc)+'_'+str(i+1)+'.png',bbox_inches = 'tight',pad_inches=0)\n",
    "    plt.savefig('data/'+str(loc)+'/'+str(loc)+'_'+str(i+1)+'.png',bbox_inches = 'tight',pad_inches=0)\n",
    "    plt.close(fig)"
   ]
  },
  {
   "cell_type": "code",
   "execution_count": 7,
   "metadata": {},
   "outputs": [],
   "source": [
    "data = pd.read_excel('dataset-SY.xlsx')"
   ]
  },
  {
   "cell_type": "code",
   "execution_count": 8,
   "metadata": {},
   "outputs": [
    {
     "data": {
      "text/html": [
       "<div>\n",
       "<style scoped>\n",
       "    .dataframe tbody tr th:only-of-type {\n",
       "        vertical-align: middle;\n",
       "    }\n",
       "\n",
       "    .dataframe tbody tr th {\n",
       "        vertical-align: top;\n",
       "    }\n",
       "\n",
       "    .dataframe thead th {\n",
       "        text-align: right;\n",
       "    }\n",
       "</style>\n",
       "<table border=\"1\" class=\"dataframe\">\n",
       "  <thead>\n",
       "    <tr style=\"text-align: right;\">\n",
       "      <th></th>\n",
       "      <th>TARGET</th>\n",
       "      <th>CELL LINE</th>\n",
       "      <th>N-padded off-target</th>\n",
       "      <th>off-target label</th>\n",
       "      <th>N-padded target</th>\n",
       "      <th>target label</th>\n",
       "      <th>FREQ</th>\n",
       "      <th>Y</th>\n",
       "    </tr>\n",
       "  </thead>\n",
       "  <tbody>\n",
       "    <tr>\n",
       "      <td>0</td>\n",
       "      <td>EMX1</td>\n",
       "      <td>K562</td>\n",
       "      <td>NNNNGAGTCAGAGAGAGAAGAAGAAGAG</td>\n",
       "      <td>off_1</td>\n",
       "      <td>NNNNGAGTCCGAG-CAGAAGAAGAANGG</td>\n",
       "      <td>target_1</td>\n",
       "      <td>0.038835</td>\n",
       "      <td>1</td>\n",
       "    </tr>\n",
       "    <tr>\n",
       "      <td>1</td>\n",
       "      <td>EMX1</td>\n",
       "      <td>K562</td>\n",
       "      <td>NNNNGAGGCAGAGCAAGAAGAAAAAAGG</td>\n",
       "      <td>off_2</td>\n",
       "      <td>NNNNGAGTCCGAGC-AGAAGAAGAANGG</td>\n",
       "      <td>target_2</td>\n",
       "      <td>0.038835</td>\n",
       "      <td>1</td>\n",
       "    </tr>\n",
       "    <tr>\n",
       "      <td>2</td>\n",
       "      <td>HEK_2</td>\n",
       "      <td>HEK293</td>\n",
       "      <td>NNNNAAACACAAAGACATAGACCACTGG</td>\n",
       "      <td>off_3</td>\n",
       "      <td>NNNNGAACACAAAG-CATAGACTGCNGG</td>\n",
       "      <td>target_3</td>\n",
       "      <td>0.037714</td>\n",
       "      <td>1</td>\n",
       "    </tr>\n",
       "    <tr>\n",
       "      <td>3</td>\n",
       "      <td>HEK_2</td>\n",
       "      <td>HEK293</td>\n",
       "      <td>NNNNGTACACAAAACATAAGACTGCTGG</td>\n",
       "      <td>off_4</td>\n",
       "      <td>NNNNGAACACAAAGCAT-AGACTGCNGG</td>\n",
       "      <td>target_4</td>\n",
       "      <td>0.020571</td>\n",
       "      <td>1</td>\n",
       "    </tr>\n",
       "    <tr>\n",
       "      <td>4</td>\n",
       "      <td>HEK_2</td>\n",
       "      <td>K562</td>\n",
       "      <td>NNNNAAACACAAAGACATAGACCACTGG</td>\n",
       "      <td>off_5</td>\n",
       "      <td>NNNNGAACACAAAG-CATAGACTGCNGG</td>\n",
       "      <td>target_5</td>\n",
       "      <td>0.021798</td>\n",
       "      <td>1</td>\n",
       "    </tr>\n",
       "    <tr>\n",
       "      <td>...</td>\n",
       "      <td>...</td>\n",
       "      <td>...</td>\n",
       "      <td>...</td>\n",
       "      <td>...</td>\n",
       "      <td>...</td>\n",
       "      <td>...</td>\n",
       "      <td>...</td>\n",
       "      <td>...</td>\n",
       "    </tr>\n",
       "    <tr>\n",
       "      <td>153919</td>\n",
       "      <td>VEGFA_3</td>\n",
       "      <td>NaN</td>\n",
       "      <td>NNNNNTGTGTGTATGTGTGTGTGTGTGG</td>\n",
       "      <td>off_153920</td>\n",
       "      <td>NNNNNGGTGAGTGAGTGTGTGCGTGNGG</td>\n",
       "      <td>target_153920</td>\n",
       "      <td>NaN</td>\n",
       "      <td>0</td>\n",
       "    </tr>\n",
       "    <tr>\n",
       "      <td>153920</td>\n",
       "      <td>VEGFA_3</td>\n",
       "      <td>NaN</td>\n",
       "      <td>NNNNNCGTGTGTGTGTGTGTGTGTGTTG</td>\n",
       "      <td>off_153921</td>\n",
       "      <td>NNNNNGGTGAGTGAGTGTGTGCGTGNGG</td>\n",
       "      <td>target_153921</td>\n",
       "      <td>NaN</td>\n",
       "      <td>0</td>\n",
       "    </tr>\n",
       "    <tr>\n",
       "      <td>153921</td>\n",
       "      <td>VEGFA_3</td>\n",
       "      <td>NaN</td>\n",
       "      <td>NNNNNTGTGCGTGTGTGTGTGTGTGTGT</td>\n",
       "      <td>off_153922</td>\n",
       "      <td>NNNNNGGTGAGTGAGTGTGTGCGTGNGG</td>\n",
       "      <td>target_153922</td>\n",
       "      <td>NaN</td>\n",
       "      <td>0</td>\n",
       "    </tr>\n",
       "    <tr>\n",
       "      <td>153922</td>\n",
       "      <td>VEGFA_3</td>\n",
       "      <td>NaN</td>\n",
       "      <td>NNNNNGGTGTGGTGGTGTGTGCCTGTGG</td>\n",
       "      <td>off_153923</td>\n",
       "      <td>NNNNNGGTGAGTGAGTGTGTGCGTGNGG</td>\n",
       "      <td>target_153923</td>\n",
       "      <td>NaN</td>\n",
       "      <td>0</td>\n",
       "    </tr>\n",
       "    <tr>\n",
       "      <td>153923</td>\n",
       "      <td>VEGFA_3</td>\n",
       "      <td>NaN</td>\n",
       "      <td>NNNNNGGTGCGTGTGTGTGTGTGTGCAG</td>\n",
       "      <td>off_153924</td>\n",
       "      <td>NNNNNGGTGAGTGAGTGTGTGCGTGNGG</td>\n",
       "      <td>target_153924</td>\n",
       "      <td>NaN</td>\n",
       "      <td>0</td>\n",
       "    </tr>\n",
       "  </tbody>\n",
       "</table>\n",
       "<p>153924 rows × 8 columns</p>\n",
       "</div>"
      ],
      "text/plain": [
       "         TARGET CELL LINE           N-padded off-target off-target label  \\\n",
       "0          EMX1      K562  NNNNGAGTCAGAGAGAGAAGAAGAAGAG            off_1   \n",
       "1          EMX1      K562  NNNNGAGGCAGAGCAAGAAGAAAAAAGG            off_2   \n",
       "2         HEK_2    HEK293  NNNNAAACACAAAGACATAGACCACTGG            off_3   \n",
       "3         HEK_2    HEK293  NNNNGTACACAAAACATAAGACTGCTGG            off_4   \n",
       "4         HEK_2      K562  NNNNAAACACAAAGACATAGACCACTGG            off_5   \n",
       "...         ...       ...                           ...              ...   \n",
       "153919  VEGFA_3       NaN  NNNNNTGTGTGTATGTGTGTGTGTGTGG       off_153920   \n",
       "153920  VEGFA_3       NaN  NNNNNCGTGTGTGTGTGTGTGTGTGTTG       off_153921   \n",
       "153921  VEGFA_3       NaN  NNNNNTGTGCGTGTGTGTGTGTGTGTGT       off_153922   \n",
       "153922  VEGFA_3       NaN  NNNNNGGTGTGGTGGTGTGTGCCTGTGG       off_153923   \n",
       "153923  VEGFA_3       NaN  NNNNNGGTGCGTGTGTGTGTGTGTGCAG       off_153924   \n",
       "\n",
       "                     N-padded target   target label      FREQ  Y  \n",
       "0       NNNNGAGTCCGAG-CAGAAGAAGAANGG       target_1  0.038835  1  \n",
       "1       NNNNGAGTCCGAGC-AGAAGAAGAANGG       target_2  0.038835  1  \n",
       "2       NNNNGAACACAAAG-CATAGACTGCNGG       target_3  0.037714  1  \n",
       "3       NNNNGAACACAAAGCAT-AGACTGCNGG       target_4  0.020571  1  \n",
       "4       NNNNGAACACAAAG-CATAGACTGCNGG       target_5  0.021798  1  \n",
       "...                              ...            ...       ... ..  \n",
       "153919  NNNNNGGTGAGTGAGTGTGTGCGTGNGG  target_153920       NaN  0  \n",
       "153920  NNNNNGGTGAGTGAGTGTGTGCGTGNGG  target_153921       NaN  0  \n",
       "153921  NNNNNGGTGAGTGAGTGTGTGCGTGNGG  target_153922       NaN  0  \n",
       "153922  NNNNNGGTGAGTGAGTGTGTGCGTGNGG  target_153923       NaN  0  \n",
       "153923  NNNNNGGTGAGTGAGTGTGTGCGTGNGG  target_153924       NaN  0  \n",
       "\n",
       "[153924 rows x 8 columns]"
      ]
     },
     "execution_count": 8,
     "metadata": {},
     "output_type": "execute_result"
    }
   ],
   "source": [
    "data"
   ]
  },
  {
   "cell_type": "code",
   "execution_count": 25,
   "metadata": {},
   "outputs": [],
   "source": [
    "small = data.head()"
   ]
  },
  {
   "cell_type": "code",
   "execution_count": 6,
   "metadata": {},
   "outputs": [
    {
     "ename": "SyntaxError",
     "evalue": "invalid syntax (<ipython-input-6-2772f9d1308f>, line 2)",
     "output_type": "error",
     "traceback": [
      "\u001b[0;36m  File \u001b[0;32m\"<ipython-input-6-2772f9d1308f>\"\u001b[0;36m, line \u001b[0;32m2\u001b[0m\n\u001b[0;31m    start =\u001b[0m\n\u001b[0m            ^\u001b[0m\n\u001b[0;31mSyntaxError\u001b[0m\u001b[0;31m:\u001b[0m invalid syntax\n"
     ]
    }
   ],
   "source": [
    "def make_images(df):\n",
    "    start = \n",
    "    end = \n",
    "    n,m = df.shape\n",
    "    off_list = df['N-padded off-target'].values\n",
    "    tar_list = df['N-padded target'].values\n",
    "    for i in tqdm(range(n)):\n",
    "        off = custom_onehot(np.array(list(off_list[i])))\n",
    "        save_img(off,'off',i)\n",
    "        tar = custom_onehot(np.array(list(tar_list[i])))\n",
    "        save_img(tar,'target',i)\n",
    "        \n",
    "        #print (off,tar)\n",
    "    return None"
   ]
  },
  {
   "cell_type": "code",
   "execution_count": 9,
   "metadata": {},
   "outputs": [],
   "source": [
    "reg = data['FREQ']"
   ]
  },
  {
   "cell_type": "code",
   "execution_count": 13,
   "metadata": {},
   "outputs": [],
   "source": [
    "reg = pd.DataFrame(reg[0:6000].values,columns=['freq'])"
   ]
  },
  {
   "cell_type": "code",
   "execution_count": 14,
   "metadata": {},
   "outputs": [],
   "source": [
    "reg.to_csv('reg6000.csv')"
   ]
  },
  {
   "cell_type": "code",
   "execution_count": 30,
   "metadata": {},
   "outputs": [
    {
     "name": "stderr",
     "output_type": "stream",
     "text": [
      "100%|██████████| 5/5 [00:00<00:00,  5.12it/s]\n"
     ]
    }
   ],
   "source": [
    "make_images(small)"
   ]
  },
  {
   "cell_type": "code",
   "execution_count": 37,
   "metadata": {},
   "outputs": [],
   "source": [
    "#ot_len = [len(item) for item in data['N-padded target'].values]"
   ]
  },
  {
   "cell_type": "code",
   "execution_count": 38,
   "metadata": {},
   "outputs": [
    {
     "data": {
      "text/plain": [
       "{28}"
      ]
     },
     "execution_count": 38,
     "metadata": {},
     "output_type": "execute_result"
    }
   ],
   "source": [
    "#set(ot_len)"
   ]
  },
  {
   "cell_type": "code",
   "execution_count": 72,
   "metadata": {},
   "outputs": [
    {
     "data": {
      "text/html": [
       "<div>\n",
       "<style scoped>\n",
       "    .dataframe tbody tr th:only-of-type {\n",
       "        vertical-align: middle;\n",
       "    }\n",
       "\n",
       "    .dataframe tbody tr th {\n",
       "        vertical-align: top;\n",
       "    }\n",
       "\n",
       "    .dataframe thead th {\n",
       "        text-align: right;\n",
       "    }\n",
       "</style>\n",
       "<table border=\"1\" class=\"dataframe\">\n",
       "  <thead>\n",
       "    <tr style=\"text-align: right;\">\n",
       "      <th></th>\n",
       "      <th>TARGET</th>\n",
       "      <th>CELL LINE</th>\n",
       "      <th>N-padded off-target</th>\n",
       "      <th>off-target label</th>\n",
       "      <th>N-padded target</th>\n",
       "      <th>target label</th>\n",
       "      <th>FREQ</th>\n",
       "      <th>Y</th>\n",
       "    </tr>\n",
       "  </thead>\n",
       "  <tbody>\n",
       "    <tr>\n",
       "      <td>0</td>\n",
       "      <td>EMX1</td>\n",
       "      <td>K562</td>\n",
       "      <td>NNNNGAGTCAGAGAGAGAAGAAGAAGAG</td>\n",
       "      <td>off_1</td>\n",
       "      <td>NNNNGAGTCCGAG-CAGAAGAAGAANGG</td>\n",
       "      <td>target_1</td>\n",
       "      <td>0.038835</td>\n",
       "      <td>1</td>\n",
       "    </tr>\n",
       "    <tr>\n",
       "      <td>1</td>\n",
       "      <td>EMX1</td>\n",
       "      <td>K562</td>\n",
       "      <td>NNNNGAGGCAGAGCAAGAAGAAAAAAGG</td>\n",
       "      <td>off_2</td>\n",
       "      <td>NNNNGAGTCCGAGC-AGAAGAAGAANGG</td>\n",
       "      <td>target_2</td>\n",
       "      <td>0.038835</td>\n",
       "      <td>1</td>\n",
       "    </tr>\n",
       "    <tr>\n",
       "      <td>2</td>\n",
       "      <td>HEK_2</td>\n",
       "      <td>HEK293</td>\n",
       "      <td>NNNNAAACACAAAGACATAGACCACTGG</td>\n",
       "      <td>off_3</td>\n",
       "      <td>NNNNGAACACAAAG-CATAGACTGCNGG</td>\n",
       "      <td>target_3</td>\n",
       "      <td>0.037714</td>\n",
       "      <td>1</td>\n",
       "    </tr>\n",
       "    <tr>\n",
       "      <td>3</td>\n",
       "      <td>HEK_2</td>\n",
       "      <td>HEK293</td>\n",
       "      <td>NNNNGTACACAAAACATAAGACTGCTGG</td>\n",
       "      <td>off_4</td>\n",
       "      <td>NNNNGAACACAAAGCAT-AGACTGCNGG</td>\n",
       "      <td>target_4</td>\n",
       "      <td>0.020571</td>\n",
       "      <td>1</td>\n",
       "    </tr>\n",
       "    <tr>\n",
       "      <td>4</td>\n",
       "      <td>HEK_2</td>\n",
       "      <td>K562</td>\n",
       "      <td>NNNNAAACACAAAGACATAGACCACTGG</td>\n",
       "      <td>off_5</td>\n",
       "      <td>NNNNGAACACAAAG-CATAGACTGCNGG</td>\n",
       "      <td>target_5</td>\n",
       "      <td>0.021798</td>\n",
       "      <td>1</td>\n",
       "    </tr>\n",
       "  </tbody>\n",
       "</table>\n",
       "</div>"
      ],
      "text/plain": [
       "  TARGET CELL LINE           N-padded off-target off-target label  \\\n",
       "0   EMX1      K562  NNNNGAGTCAGAGAGAGAAGAAGAAGAG            off_1   \n",
       "1   EMX1      K562  NNNNGAGGCAGAGCAAGAAGAAAAAAGG            off_2   \n",
       "2  HEK_2    HEK293  NNNNAAACACAAAGACATAGACCACTGG            off_3   \n",
       "3  HEK_2    HEK293  NNNNGTACACAAAACATAAGACTGCTGG            off_4   \n",
       "4  HEK_2      K562  NNNNAAACACAAAGACATAGACCACTGG            off_5   \n",
       "\n",
       "                N-padded target target label      FREQ  Y  \n",
       "0  NNNNGAGTCCGAG-CAGAAGAAGAANGG     target_1  0.038835  1  \n",
       "1  NNNNGAGTCCGAGC-AGAAGAAGAANGG     target_2  0.038835  1  \n",
       "2  NNNNGAACACAAAG-CATAGACTGCNGG     target_3  0.037714  1  \n",
       "3  NNNNGAACACAAAGCAT-AGACTGCNGG     target_4  0.020571  1  \n",
       "4  NNNNGAACACAAAG-CATAGACTGCNGG     target_5  0.021798  1  "
      ]
     },
     "execution_count": 72,
     "metadata": {},
     "output_type": "execute_result"
    }
   ],
   "source": [
    "small"
   ]
  },
  {
   "cell_type": "code",
   "execution_count": null,
   "metadata": {},
   "outputs": [],
   "source": []
  },
  {
   "cell_type": "code",
   "execution_count": null,
   "metadata": {},
   "outputs": [],
   "source": []
  },
  {
   "cell_type": "code",
   "execution_count": null,
   "metadata": {},
   "outputs": [],
   "source": []
  },
  {
   "cell_type": "code",
   "execution_count": null,
   "metadata": {
    "colab": {},
    "colab_type": "code",
    "id": "Jt8gUloz7DvB"
   },
   "outputs": [],
   "source": [
    "#soft coloring"
   ]
  },
  {
   "cell_type": "code",
   "execution_count": 6,
   "metadata": {
    "colab": {
     "base_uri": "https://localhost:8080/",
     "height": 124
    },
    "colab_type": "code",
    "id": "ly6nBwPg7G1c",
    "outputId": "8252f6d0-67a7-499e-8b41-dcb26248be20"
   },
   "outputs": [],
   "source": [
    "# fig, ax = plt.subplots(figsize=(5.75,1))\n",
    "# ax.imshow(img1, interpolation='gaussian', cmap='Blues', aspect='auto')\n",
    "# ax.set_title(seq1, color='yellow',fontsize= 21)\n",
    "# plt.show()"
   ]
  },
  {
   "cell_type": "code",
   "execution_count": 5,
   "metadata": {
    "colab": {
     "base_uri": "https://localhost:8080/",
     "height": 123
    },
    "colab_type": "code",
    "id": "7c56VBg-7HL2",
    "outputId": "95f27052-3ad3-4fe7-d417-cbfeea228b3d"
   },
   "outputs": [],
   "source": [
    "# fig, ax = plt.subplots(figsize=(5.75,1))\n",
    "# ax.imshow(img2, interpolation='gaussian', cmap='Blues', aspect='auto')\n",
    "# ax.set_title(seq2, color='yellow',fontsize= 20)\n",
    "# plt.show()"
   ]
  },
  {
   "cell_type": "code",
   "execution_count": 4,
   "metadata": {
    "colab": {},
    "colab_type": "code",
    "id": "G-G_5HTa3AaP"
   },
   "outputs": [],
   "source": [
    "############## code below this is garbage."
   ]
  },
  {
   "cell_type": "code",
   "execution_count": null,
   "metadata": {
    "colab": {},
    "colab_type": "code",
    "id": "5dIXwHkoyx0Q"
   },
   "outputs": [],
   "source": [
    "# from PIL import Image"
   ]
  },
  {
   "cell_type": "code",
   "execution_count": null,
   "metadata": {
    "colab": {},
    "colab_type": "code",
    "id": "L_EeyvQ-y0zR"
   },
   "outputs": [],
   "source": [
    "# pil_img1 = Image.fromarray(img1, 'P')\n",
    "# pil_img2 = Image.fromarray(img2, 'P')"
   ]
  },
  {
   "cell_type": "code",
   "execution_count": null,
   "metadata": {
    "colab": {},
    "colab_type": "code",
    "id": "rgtaf9_ly7yc"
   },
   "outputs": [],
   "source": [
    "# newsize = (230, 50) \n",
    "# pil_img1 = pil_img1.resize(newsize)\n",
    "# pil_img2 = pil_img2.resize(newsize)"
   ]
  },
  {
   "cell_type": "code",
   "execution_count": null,
   "metadata": {
    "colab": {
     "base_uri": "https://localhost:8080/",
     "height": 67
    },
    "colab_type": "code",
    "id": "Qowjm50H1XiO",
    "outputId": "613c9ba5-16d6-465a-b98e-a7026ebceb3c"
   },
   "outputs": [
    {
     "data": {
      "image/png": "[encoded data removed]",
      "text/plain": [
       "<PIL.Image.Image image mode=P size=230x50 at 0x7F9D9F2DA668>"
      ]
     },
     "execution_count": 148,
     "metadata": {
      "tags": []
     },
     "output_type": "execute_result"
    }
   ],
   "source": [
    "# pil_img1 "
   ]
  },
  {
   "cell_type": "code",
   "execution_count": null,
   "metadata": {
    "colab": {
     "base_uri": "https://localhost:8080/",
     "height": 67
    },
    "colab_type": "code",
    "id": "hKvIDnDZzbf3",
    "outputId": "da7f3511-c5fd-4ea8-bb30-b14864568d54"
   },
   "outputs": [
    {
     "data": {
      "image/png": "[encoded data removed]",
      "text/plain": [
       "<PIL.Image.Image image mode=P size=230x50 at 0x7F9D9F2DAB70>"
      ]
     },
     "execution_count": 149,
     "metadata": {
      "tags": []
     },
     "output_type": "execute_result"
    }
   ],
   "source": [
    "# pil_img2"
   ]
  },
  {
   "cell_type": "code",
   "execution_count": null,
   "metadata": {
    "colab": {},
    "colab_type": "code",
    "id": "Bw_OhFL92QD6"
   },
   "outputs": [],
   "source": [
    "# from sklearn.preprocessing import OneHotEncoder\n",
    "# from sklearn.preprocessing import LabelEncoder\n",
    "# label_encoder = LabelEncoder()\n",
    "# label_encoder.fit(np.array(['-','A','C','G','T','N']))\n",
    "# integer_encoded = label_encoder.transform(arr2)\n",
    "# integer_encoded\n",
    "# def one_hot_encoder(my_array):\n",
    "#     integer_encoded = label_encoder.transform(my_array)\n",
    "#     onehot_encoder = OneHotEncoder(sparse=False, dtype=float)\n",
    "#     integer_encoded = integer_encoded.reshape(len(integer_encoded), 1)\n",
    "#     onehot_encoded = onehot_encoder.fit_transform(integer_encoded)\n",
    "#     onehot_encoded = np.delete(onehot_encoded, -1, 1)\n",
    "#     return onehot_encoded"
   ]
  }
 ],
 "metadata": {
  "accelerator": "GPU",
  "colab": {
   "name": "dsv.ipynb",
   "provenance": []
  },
  "kernelspec": {
   "display_name": "Python 3",
   "language": "python",
   "name": "python3"
  },
  "language_info": {
   "codemirror_mode": {
    "name": "ipython",
    "version": 3
   },
   "file_extension": ".py",
   "mimetype": "text/x-python",
   "name": "python",
   "nbconvert_exporter": "python",
   "pygments_lexer": "ipython3",
   "version": "3.7.4"
  }
 },
 "nbformat": 4,
 "nbformat_minor": 4
}
